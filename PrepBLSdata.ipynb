{
 "cells": [
  {
   "cell_type": "code",
   "execution_count": 36,
   "id": "e45d9909-90c4-4555-ae78-1c148d69501b",
   "metadata": {},
   "outputs": [],
   "source": [
    "from pypdf import PdfReader, PdfWriter, PageObject, Transformation\n",
    "import camelot\n",
    "import pandas as pd\n"
   ]
  },
  {
   "cell_type": "code",
   "execution_count": 37,
   "id": "bfb0bea7-8b57-4af7-a99c-1e5cf1f8cbdd",
   "metadata": {},
   "outputs": [
    {
     "name": "stdout",
     "output_type": "stream",
     "text": [
      "Saved new PDF to C:\\Users\\alex\\coding_projects\\bls_data\\data\\pdf\\bls_1312-10_1976_manufacturing_test.pdf with pages 50-52\n"
     ]
    }
   ],
   "source": [
    "# Split PDF into pages and save a new PDF with selected pages\n",
    "\n",
    "# Define input and output paths\n",
    "\n",
    "input_path = r\"C:\\Users\\alex\\coding_projects\\bls_data\\data\\pdf\\bls_1312-10_1976.pdf\"\n",
    "output_path = r\"C:\\Users\\alex\\coding_projects\\bls_data\\data\\pdf\\bls_1312-10_1976_manufacturing_test.pdf\"\n",
    "\n",
    "# Choose your page range (e.g., pages 3 to 7)\n",
    "start_page = 50   # inclusive, 1-based\n",
    "end_page = 52     # inclusive, 1-based\n",
    "\n",
    "# Read the PDF\n",
    "reader = PdfReader(input_path)\n",
    "writer = PdfWriter()\n",
    "\n",
    "# Add chosen pages (PyPDF2 uses 0-based indexing internally)\n",
    "for page_num in range(start_page - 1, end_page):\n",
    "    writer.add_page(reader.pages[page_num])\n",
    "\n",
    "# Save the new PDF\n",
    "with open(output_path, \"wb\") as f:\n",
    "    writer.write(f)\n",
    "\n",
    "print(f\"Saved new PDF to {output_path} with pages {start_page}-{end_page}\")\n"
   ]
  },
  {
   "cell_type": "code",
   "execution_count": 38,
   "id": "96b8c0f7",
   "metadata": {},
   "outputs": [
    {
     "name": "stdout",
     "output_type": "stream",
     "text": [
      "Cropped PDF saved to C:\\Users\\alex\\coding_projects\\bls_data\\data\\pdf\\bls_1312-10_1976_cropped_odd_even.pdf\n"
     ]
    }
   ],
   "source": [
    "# Crop odd and even pages differently in a PDF\n",
    "\n",
    "# Define input and output paths\n",
    "input_path = r\"C:\\Users\\alex\\coding_projects\\bls_data\\data\\pdf\\bls_1312-10_1976_manufacturing_test.pdf\"\n",
    "output_path = r\"C:\\Users\\alex\\coding_projects\\bls_data\\data\\pdf\\bls_1312-10_1976_cropped_odd_even.pdf\"\n",
    "\n",
    "# Read the PDF\n",
    "reader = PdfReader(input_path)\n",
    "writer = PdfWriter()\n",
    "\n",
    "# Define crop dimensions for odd and even pages (in points, 1 inch = 72 points)\n",
    "odd_crop = {\"left\": 0, \"bottom\": 87, \"right\": 0, \"top\": 125}  # Odd pages crop\n",
    "even_crop = {\"left\": 0, \"bottom\": 87, \"right\": 0, \"top\": 125}  # Even pages crop\n",
    "\n",
    "for i, page in enumerate(reader.pages):\n",
    "    # Get the current mediabox\n",
    "    mediabox = page.mediabox\n",
    "\n",
    "    # Determine crop dimensions based on page index (0-based)\n",
    "    crop = odd_crop if i % 2 == 0 else even_crop\n",
    "\n",
    "    # Adjust the mediabox to crop the page\n",
    "    mediabox.lower_left = (mediabox.lower_left[0] + crop[\"left\"], mediabox.lower_left[1] + crop[\"bottom\"])\n",
    "    mediabox.upper_right = (mediabox.upper_right[0] - crop[\"right\"], mediabox.upper_right[1] - crop[\"top\"])\n",
    "\n",
    "    # Add the cropped page to the writer\n",
    "    writer.add_page(page)\n",
    "\n",
    "# Save the cropped PDF\n",
    "with open(output_path, \"wb\") as f:\n",
    "    writer.write(f)\n",
    "\n",
    "print(f\"Cropped PDF saved to {output_path}\")"
   ]
  },
  {
   "cell_type": "code",
   "execution_count": 39,
   "id": "812cdb7f-7934-44cb-93a6-b01932911c9a",
   "metadata": {},
   "outputs": [
    {
     "name": "stdout",
     "output_type": "stream",
     "text": [
      "Saved split PDF to C:\\Users\\alex\\coding_projects\\bls_data\\data\\pdf\\bls_1312-10_1976_manufacturing_split_test.pdf\n"
     ]
    }
   ],
   "source": [
    "input_path = r\"C:\\Users\\alex\\coding_projects\\bls_data\\data\\pdf\\bls_1312-10_1976_manufacturing_test.pdf\"\n",
    "output_path = r\"C:\\Users\\alex\\coding_projects\\bls_data\\data\\pdf\\bls_1312-10_1976_manufacturing_split_test.pdf\"\n",
    "\n",
    "reader = PdfReader(input_path)\n",
    "writer = PdfWriter()\n",
    "\n",
    "for page in reader.pages:\n",
    "    width = float(page.mediabox.width)\n",
    "    height = float(page.mediabox.height)\n",
    "\n",
    "    # Left half page\n",
    "    left_page = PageObject.create_blank_page(width=width / 2, height=height)\n",
    "    left_page.merge_page(page)\n",
    "    left_page.mediabox.upper_right = (width / 2, height)\n",
    "    writer.add_page(left_page)\n",
    "\n",
    "    # Right half page: create blank page, merge original page shifted left by half width\n",
    "    right_page = PageObject.create_blank_page(width=width / 2, height=height)\n",
    "\n",
    "    # Translate content left by half the width (so right half fits)\n",
    "    translation = Transformation().translate(-width / 2, 0)\n",
    "    right_page.merge_transformed_page(page, translation)\n",
    "    right_page.mediabox.upper_right = (width / 2, height)\n",
    "    writer.add_page(right_page)\n",
    "\n",
    "with open(output_path, \"wb\") as f:\n",
    "    writer.write(f)\n",
    "\n",
    "print(f\"Saved split PDF to {output_path}\")\n"
   ]
  },
  {
   "cell_type": "code",
   "execution_count": 40,
   "id": "1d1dd509-93bd-459a-bf62-d7d873b0b67c",
   "metadata": {},
   "outputs": [
    {
     "name": "stdout",
     "output_type": "stream",
     "text": [
      "Found 8 tables\n",
      "Saved combined CSV to C:\\Users\\alex\\coding_projects\\bls_data\\data\\pdf\\bls_1312-10_1976_manufacturing_split_test.csv\n"
     ]
    },
    {
     "name": "stderr",
     "output_type": "stream",
     "text": [
      "C:\\Users\\alex\\AppData\\Local\\Packages\\PythonSoftwareFoundation.Python.3.13_qbz5n2kfra8p0\\LocalCache\\local-packages\\Python313\\site-packages\\camelot\\parsers\\base.py:238: UserWarning: No tables found in table area (0, 0, 378.25, 576.0)\n",
      "  cols, rows, v_s, h_s = self._generate_columns_and_rows(bbox, user_cols)\n",
      "C:\\Users\\alex\\AppData\\Local\\Packages\\PythonSoftwareFoundation.Python.3.13_qbz5n2kfra8p0\\LocalCache\\local-packages\\Python313\\site-packages\\camelot\\parsers\\base.py:238: UserWarning: No tables found in table area (0, 0, 378.25, 576.0)\n",
      "  cols, rows, v_s, h_s = self._generate_columns_and_rows(bbox, user_cols)\n"
     ]
    }
   ],
   "source": [
    "input_pdf = r\"C:\\Users\\alex\\coding_projects\\bls_data\\data\\pdf\\bls_1312-10_1976_manufacturing_split_test.pdf\"\n",
    "output_csv = r\"C:\\Users\\alex\\coding_projects\\bls_data\\data\\pdf\\bls_1312-10_1976_manufacturing_split_test.csv\"\n",
    "\n",
    "# Extract tables from all pages using stream mode\n",
    "tables = camelot.read_pdf(input_pdf, pages='all', flavor='stream', strip_text='\\n')\n",
    "\n",
    "print(f\"Found {tables.n} tables\")\n",
    "\n",
    "# Combine all tables into a single DataFrame\n",
    "df_list = [table.df for table in tables]\n",
    "combined_df = pd.concat(df_list, ignore_index=True)\n",
    "\n",
    "# Optional: reset index, drop empty columns, or clean headers here if needed\n",
    "combined_df.to_csv(output_csv, index=False)\n",
    "\n",
    "print(f\"Saved combined CSV to {output_csv}\")\n"
   ]
  }
 ],
 "metadata": {
  "kernelspec": {
   "display_name": "Python 3",
   "language": "python",
   "name": "python3"
  },
  "language_info": {
   "codemirror_mode": {
    "name": "ipython",
    "version": 3
   },
   "file_extension": ".py",
   "mimetype": "text/x-python",
   "name": "python",
   "nbconvert_exporter": "python",
   "pygments_lexer": "ipython3",
   "version": "3.13.6"
  }
 },
 "nbformat": 4,
 "nbformat_minor": 5
}
